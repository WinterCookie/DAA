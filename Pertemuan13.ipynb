{
  "nbformat": 4,
  "nbformat_minor": 0,
  "metadata": {
    "colab": {
      "provenance": []
    },
    "kernelspec": {
      "name": "python3",
      "display_name": "Python 3"
    },
    "language_info": {
      "name": "python"
    }
  },
  "cells": [
    {
      "cell_type": "code",
      "source": [
        "#fungsi untuk memanggil breath first search\n",
        "\n",
        "def bfs(graph, start):\n",
        "  visited=[]\n",
        "  queue = []\n",
        "  queue = [start]\n",
        "  while queue:\n",
        "    node = queue.pop (0)\n",
        "    if node not in visited:\n",
        "      visited.append(node)\n",
        "      neighbours = graph [node]\n",
        "      for neighbour in neighbours:\n",
        "        queue.append(neighbour)\n",
        "  return visited\n",
        "\n"
      ],
      "metadata": {
        "id": "elaqu7dKyMlJ"
      },
      "execution_count": 48,
      "outputs": []
    },
    {
      "cell_type": "code",
      "execution_count": 49,
      "metadata": {
        "colab": {
          "base_uri": "https://localhost:8080/"
        },
        "id": "rV-VEUjHr_eG",
        "outputId": "a34a257f-0d2d-4086-97df-252fd2eb915b"
      },
      "outputs": [
        {
          "output_type": "execute_result",
          "data": {
            "text/plain": [
              "['Mike', 'Amin', 'Wasim', 'Nick', 'Imran', 'Faras']"
            ]
          },
          "metadata": {},
          "execution_count": 49
        }
      ],
      "source": [
        "def bfs(graph, start):\n",
        "  visited=[]\n",
        "  queue = []\n",
        "  queue = [start]\n",
        "  while queue:\n",
        "    node = queue.pop (0)\n",
        "    if node not in visited:\n",
        "      visited.append(node)\n",
        "      neighbours = graph [node]\n",
        "      for neighbour in neighbours:\n",
        "        queue.append(neighbour)\n",
        "  return visited\n",
        "\n",
        "graph = {'Amin': ['Wasim','Nick', 'Mike'],\n",
        "         'Wasim': ['Imran', 'Amin'],\n",
        "         'Imran': ['Wasim', 'Faras'],\n",
        "         'Faras': ['Imran'],\n",
        "         'Mike' : ['Amin'],\n",
        "         'Nick': ['Amin']\n",
        "         }\n",
        "\n",
        "# O Amin -----------------\n",
        "# |          |          |\n",
        "# O Wasim    O Nike     O Mike\n",
        "# |\n",
        "# O Imran\n",
        "# |\n",
        "# O Faras\n",
        "\n",
        "bfs(graph, 'Mike')"
      ]
    },
    {
      "cell_type": "code",
      "source": [
        "def bfs(graph, start):\n",
        "  visited=[]\n",
        "  queue = []\n",
        "  queue = [start]\n",
        "  while queue:\n",
        "    node = queue.pop (0)\n",
        "    if node not in visited:\n",
        "      visited.append(node)\n",
        "      neighbours = graph [node]\n",
        "      for neighbour in neighbours:\n",
        "        queue.append(neighbour)\n",
        "  return visited\n",
        "\n",
        "graph = {'Amin': ['Wasim','Nick', 'Mike'],\n",
        "         'Wasim': ['Imran', 'Amin'],\n",
        "         'Imran': ['Wasim', 'Faras'],\n",
        "         'Faras': ['Imran'],\n",
        "         'Mike' : ['Amin'],\n",
        "         'Nick': ['Amin']\n",
        "         }\n",
        "\n",
        "# O Amin -----------------\n",
        "# |          |          |\n",
        "# O Wasim    O Nike     O Mike\n",
        "# |\n",
        "# O Imran\n",
        "# |\n",
        "# O Faras\n",
        "\n",
        "bfs(graph, 'Nick')"
      ],
      "metadata": {
        "colab": {
          "base_uri": "https://localhost:8080/"
        },
        "id": "-WYyOAYcyFwE",
        "outputId": "38ac8ef7-aa6d-437f-9fc0-4a3346712cae"
      },
      "execution_count": 50,
      "outputs": [
        {
          "output_type": "execute_result",
          "data": {
            "text/plain": [
              "['Nick', 'Amin', 'Wasim', 'Mike', 'Imran', 'Faras']"
            ]
          },
          "metadata": {},
          "execution_count": 50
        }
      ]
    },
    {
      "cell_type": "code",
      "source": [
        "def bfs(graph, start):\n",
        "  visited=[]\n",
        "  queue = []\n",
        "  queue = [start]\n",
        "  while queue:\n",
        "    node = queue.pop (0)\n",
        "    if node not in visited:\n",
        "      visited.append(node)\n",
        "      neighbours = graph [node]\n",
        "      for neighbour in neighbours:\n",
        "        queue.append(neighbour)\n",
        "  return visited\n",
        "\n",
        "graph = { 'rektor' :['warek 1', 'warek 2'],\n",
        "          'warek 1': ['rektor'],\n",
        "          'warek 2' : ['rektor', 'kaprodi 1', 'kaprodi 2', 'kaprodi 3'],\n",
        "          'kaprodi 1' : ['dosen A', 'dosen B', 'dosen C','warek 2'],\n",
        "          'kaprodi 2' : ['dosen D', 'dosen E','warek 2'],\n",
        "          'kaprodi 3' : ['dosen F', 'dosen G','warek 2'],\n",
        "          'dosen G' : ['kaprodi 3'],\n",
        "          'dosen F' : ['kaprodi 3'],\n",
        "          'dosen D' : ['kaprodi 2'],\n",
        "          'dosen E' : ['kaprodi 2'],\n",
        "          'dosen C' : ['kaprodi 1'],\n",
        "          'dosen B' : ['kaprodi 1'],\n",
        "          'dosen A' : ['kaprodi 1']\n",
        "          }\n",
        "bfs(graph, 'dosen C')"
      ],
      "metadata": {
        "colab": {
          "base_uri": "https://localhost:8080/"
        },
        "id": "2yClfJpG1jWq",
        "outputId": "493d807a-385f-4d31-8a8b-9883ff3d637d"
      },
      "execution_count": 51,
      "outputs": [
        {
          "output_type": "execute_result",
          "data": {
            "text/plain": [
              "['dosen C',\n",
              " 'kaprodi 1',\n",
              " 'dosen A',\n",
              " 'dosen B',\n",
              " 'warek 2',\n",
              " 'rektor',\n",
              " 'kaprodi 2',\n",
              " 'kaprodi 3',\n",
              " 'warek 1',\n",
              " 'dosen D',\n",
              " 'dosen E',\n",
              " 'dosen F',\n",
              " 'dosen G']"
            ]
          },
          "metadata": {},
          "execution_count": 51
        }
      ]
    },
    {
      "cell_type": "code",
      "source": [
        "def bfs(graph, start):\n",
        "  visited=[]\n",
        "  queue = []\n",
        "  queue = [start]\n",
        "  while queue:\n",
        "    node = queue.pop (0)\n",
        "    if node not in visited:\n",
        "      visited.append(node)\n",
        "      neighbours = graph [node]\n",
        "      for neighbour in neighbours:\n",
        "        queue.append(neighbour)\n",
        "  return visited\n",
        "\n",
        "graph = { 'rektor' :['warek 1', 'warek 2'],\n",
        "          'warek 1': ['rektor'],\n",
        "          'warek 2' : ['rektor', 'kaprodi 1', 'kaprodi 2', 'kaprodi 3'],\n",
        "          'kaprodi 1' : ['dosen A', 'dosen B', 'dosen C','warek 2'],\n",
        "          'kaprodi 2' : ['dosen D', 'dosen E','warek 2'],\n",
        "          'kaprodi 3' : ['dosen F', 'dosen G','warek 2'],\n",
        "          'dosen G' : ['kaprodi 3'],\n",
        "          'dosen F' : ['kaprodi 3'],\n",
        "          'dosen D' : ['kaprodi 2'],\n",
        "          'dosen E' : ['kaprodi 2'],\n",
        "          'dosen C' : ['kaprodi 1'],\n",
        "          'dosen B' : ['kaprodi 1'],\n",
        "          'dosen A' : ['kaprodi 1']\n",
        "          }\n",
        "bfs(graph, 'dosen A')"
      ],
      "metadata": {
        "colab": {
          "base_uri": "https://localhost:8080/"
        },
        "id": "-2lBINc769G-",
        "outputId": "4010264e-6d1e-4cc9-c71d-85cd6f7891b8"
      },
      "execution_count": 52,
      "outputs": [
        {
          "output_type": "execute_result",
          "data": {
            "text/plain": [
              "['dosen A',\n",
              " 'kaprodi 1',\n",
              " 'dosen B',\n",
              " 'dosen C',\n",
              " 'warek 2',\n",
              " 'rektor',\n",
              " 'kaprodi 2',\n",
              " 'kaprodi 3',\n",
              " 'warek 1',\n",
              " 'dosen D',\n",
              " 'dosen E',\n",
              " 'dosen F',\n",
              " 'dosen G']"
            ]
          },
          "metadata": {},
          "execution_count": 52
        }
      ]
    },
    {
      "cell_type": "code",
      "source": [
        "def bfs(graph, start):\n",
        "  visited=[]\n",
        "  queue = []\n",
        "  queue = [start]\n",
        "  while queue:\n",
        "    node = queue.pop (0)\n",
        "    if node not in visited:\n",
        "      visited.append(node)\n",
        "      neighbours = graph [node]\n",
        "      for neighbour in neighbours:\n",
        "        queue.append(neighbour)\n",
        "  return visited\n",
        "\n",
        "#Finding the Shorted Path on unweight graph\n",
        "graph = { 0: [9, 7, 11],\n",
        "          1: [10, 8],\n",
        "          2: [12, 3],\n",
        "          3: [2, 4, 7],\n",
        "          4: [3],\n",
        "          5: [6],\n",
        "          6: [5, 7],\n",
        "          7: [0, 11, 6, 3],\n",
        "          8: [1, 9, 12],\n",
        "          9: [0, 8, 10],\n",
        "          10: [1, 9],\n",
        "          11: [0, 7],\n",
        "          12: [8, 2]\n",
        "          }\n",
        "\n",
        "bfs(graph, 3)"
      ],
      "metadata": {
        "colab": {
          "base_uri": "https://localhost:8080/"
        },
        "id": "rcnwIY_jBWwN",
        "outputId": "545b7347-2abb-4dc2-fc5b-3732343383a9"
      },
      "execution_count": 53,
      "outputs": [
        {
          "output_type": "execute_result",
          "data": {
            "text/plain": [
              "[3, 2, 4, 7, 12, 0, 11, 6, 8, 9, 5, 1, 10]"
            ]
          },
          "metadata": {},
          "execution_count": 53
        }
      ]
    },
    {
      "cell_type": "code",
      "source": [
        "def dfs(visited, graph, node):\n",
        "    if node not in visited:\n",
        "        print(node)\n",
        "        visited.add(node)\n",
        "        for neighbour in graph[node]:\n",
        "            dfs(visited, graph, neighbour)\n",
        "\n",
        "# Definisi graph\n",
        "graph = {\n",
        "    'Amin': ['Wasim', 'Nick', 'Mike'],\n",
        "    'Wasim': ['Imran', 'Amin'],\n",
        "    'Imran': ['Wasim', 'Faras'],\n",
        "    'Faras': ['Imran'],\n",
        "    'Nick': ['Amin'],\n",
        "    'Mike': ['Amin']\n",
        "}\n",
        "\n",
        "# Set visited awal\n",
        "visited = set()\n",
        "\n",
        "# Panggil fungsi DFS\n",
        "dfs(visited, graph, 'Nick')"
      ],
      "metadata": {
        "colab": {
          "base_uri": "https://localhost:8080/"
        },
        "id": "c0fxu9QMVZkL",
        "outputId": "177304a0-0476-4a4a-916b-be6adb6b6171"
      },
      "execution_count": 54,
      "outputs": [
        {
          "output_type": "stream",
          "name": "stdout",
          "text": [
            "Nick\n",
            "Amin\n",
            "Wasim\n",
            "Imran\n",
            "Faras\n",
            "Mike\n"
          ]
        }
      ]
    },
    {
      "cell_type": "code",
      "source": [
        "def dfs(visited, graph, node):\n",
        "    if node not in visited:\n",
        "        print(node)\n",
        "        visited.add(node)\n",
        "        for neighbour in graph[node]:\n",
        "            dfs(visited, graph, neighbour)\n",
        "\n",
        "# Definisi graph\n",
        "graph = {\n",
        "    'Amin': ['Wasim', 'Nick', 'Mike'],\n",
        "    'Wasim': ['Imran', 'Amin'],\n",
        "    'Imran': ['Wasim', 'Faras'],\n",
        "    'Faras': ['Imran'],\n",
        "    'Nick': ['Amin'],\n",
        "    'Mike': ['Amin']\n",
        "}\n",
        "\n",
        "# Set visited awal\n",
        "visited = set()\n",
        "\n",
        "# Panggil fungsi DFS\n",
        "dfs(visited, graph, 'Wasim')"
      ],
      "metadata": {
        "colab": {
          "base_uri": "https://localhost:8080/"
        },
        "id": "PRjOy8uNVZuJ",
        "outputId": "85390c29-a9c8-4554-cc39-234be9f581cc"
      },
      "execution_count": 55,
      "outputs": [
        {
          "output_type": "stream",
          "name": "stdout",
          "text": [
            "Wasim\n",
            "Imran\n",
            "Faras\n",
            "Amin\n",
            "Nick\n",
            "Mike\n"
          ]
        }
      ]
    },
    {
      "cell_type": "code",
      "source": [
        "def dfs(visited, graph, node):\n",
        "    if node not in visited:\n",
        "        print(node)\n",
        "        visited.add(node)\n",
        "        for neighbour in graph[node]:\n",
        "            dfs(visited, graph, neighbour)\n",
        "\n",
        "# Definisi graph\n",
        "graph = {\n",
        "    'Amin': ['Wasim', 'Nick', 'Mike'],\n",
        "    'Wasim': ['Imran', 'Amin'],\n",
        "    'Imran': ['Wasim', 'Faras'],\n",
        "    'Faras': ['Imran'],\n",
        "    'Nick': ['Amin'],\n",
        "    'Mike': ['Amin']\n",
        "}\n",
        "\n",
        "# Set visited awal\n",
        "visited = set()\n",
        "\n",
        "# Panggil fungsi DFS\n",
        "dfs(visited, graph, 'Faras')"
      ],
      "metadata": {
        "colab": {
          "base_uri": "https://localhost:8080/"
        },
        "id": "JUU0NZc7VacM",
        "outputId": "7680ed53-0a32-439f-c255-ba38c452e36c"
      },
      "execution_count": 56,
      "outputs": [
        {
          "output_type": "stream",
          "name": "stdout",
          "text": [
            "Faras\n",
            "Imran\n",
            "Wasim\n",
            "Amin\n",
            "Nick\n",
            "Mike\n"
          ]
        }
      ]
    },
    {
      "cell_type": "code",
      "source": [
        "\n",
        "def dfs(graph, start, visited=None):\n",
        "    if visited is None:\n",
        "        visited = set()\n",
        "    visited.add(start)\n",
        "    print(start)\n",
        "    for neighbor in graph[start]:\n",
        "        if neighbor not in visited:\n",
        "            dfs(graph, neighbor, visited)\n",
        "\n",
        "#Finding the Shorted Path on unweight graph\n",
        "graph = { 0: [9, 7, 11],\n",
        "          1: [10, 8],\n",
        "          2: [12, 3],\n",
        "          3: [2, 4, 7],\n",
        "          4: [3],\n",
        "          5: [6],\n",
        "          6: [5, 7],\n",
        "          7: [0, 11, 6, 3],\n",
        "          8: [1, 9, 12],\n",
        "          9: [0, 8, 10],\n",
        "          10: [1, 9],\n",
        "          11: [0, 7],\n",
        "          12: [8, 2]\n",
        "          }\n",
        "\n",
        "dfs(graph, 0)"
      ],
      "metadata": {
        "colab": {
          "base_uri": "https://localhost:8080/"
        },
        "id": "-q8VOiXY6M5C",
        "outputId": "7c19365b-52e1-47a8-83ae-460488e7d68a"
      },
      "execution_count": 57,
      "outputs": [
        {
          "output_type": "stream",
          "name": "stdout",
          "text": [
            "0\n",
            "9\n",
            "8\n",
            "1\n",
            "10\n",
            "12\n",
            "2\n",
            "3\n",
            "4\n",
            "7\n",
            "11\n",
            "6\n",
            "5\n"
          ]
        }
      ]
    },
    {
      "cell_type": "code",
      "source": [
        "def dfs(graph, start, visited=None):\n",
        "    if visited is None:\n",
        "        visited = set()\n",
        "    visited.add(start)\n",
        "    print(start)\n",
        "    for neighbor in graph[start]:\n",
        "        if neighbor not in visited:\n",
        "            dfs(graph, neighbor, visited)\n",
        "\n",
        "#Finding the Shorted Path on unweight graph\n",
        "graph = { 0: [8,9],\n",
        "          1: [0, 8],\n",
        "          2: [12, 3],\n",
        "          3: [2, 4, 7],\n",
        "          4: [3],\n",
        "          5: [6],\n",
        "          6: [5, 7],\n",
        "          7: [10, 11, 6, 3],\n",
        "          8: [1, 9, 12],\n",
        "          9: [0, 8,],\n",
        "          10: [1, 9],\n",
        "          11: [10, 7],\n",
        "          12: [8, 2]\n",
        "          }\n",
        "dfs(graph, 3)"
      ],
      "metadata": {
        "colab": {
          "base_uri": "https://localhost:8080/"
        },
        "id": "zCbRgrtROwfa",
        "outputId": "92e4459a-73b0-444f-fb68-31608e659fc4"
      },
      "execution_count": 58,
      "outputs": [
        {
          "output_type": "stream",
          "name": "stdout",
          "text": [
            "3\n",
            "2\n",
            "12\n",
            "8\n",
            "1\n",
            "0\n",
            "9\n",
            "4\n",
            "7\n",
            "10\n",
            "11\n",
            "6\n",
            "5\n"
          ]
        }
      ]
    },
    {
      "cell_type": "code",
      "source": [
        "def dfs(graph, start, visited=None):\n",
        "    if visited is None:\n",
        "        visited = set()\n",
        "    visited.add(start)\n",
        "    print(start)\n",
        "    for neighbor in graph[start]:\n",
        "        if neighbor not in visited:\n",
        "            dfs(graph, neighbor, visited)\n",
        "\n",
        "graph = { 'rektor' :['warek 1', 'warek 2'],\n",
        "          'warek 1': ['rektor'],\n",
        "          'warek 2' : ['rektor', 'kaprodi 1', 'kaprodi 2', 'kaprodi 3'],\n",
        "          'kaprodi 1' : ['dosen A', 'dosen B', 'dosen C','warek 2'],\n",
        "          'kaprodi 2' : ['dosen D', 'dosen E','warek 2'],\n",
        "          'kaprodi 3' : ['dosen F', 'dosen G','warek 2'],\n",
        "          'dosen G' : ['kaprodi 3'],\n",
        "          'dosen F' : ['kaprodi 3'],\n",
        "          'dosen D' : ['kaprodi 2'],\n",
        "          'dosen E' : ['kaprodi 2'],\n",
        "          'dosen C' : ['kaprodi 1'],\n",
        "          'dosen B' : ['kaprodi 1'],\n",
        "          'dosen A' : ['kaprodi 1']\n",
        "          }\n",
        "dfs(graph, 'rektor')"
      ],
      "metadata": {
        "colab": {
          "base_uri": "https://localhost:8080/"
        },
        "id": "qI_ctueESxVy",
        "outputId": "d46200ee-075c-4ae9-b153-d74a184fc170"
      },
      "execution_count": 59,
      "outputs": [
        {
          "output_type": "stream",
          "name": "stdout",
          "text": [
            "rektor\n",
            "warek 1\n",
            "warek 2\n",
            "kaprodi 1\n",
            "dosen A\n",
            "dosen B\n",
            "dosen C\n",
            "kaprodi 2\n",
            "dosen D\n",
            "dosen E\n",
            "kaprodi 3\n",
            "dosen F\n",
            "dosen G\n"
          ]
        }
      ]
    }
  ]
}